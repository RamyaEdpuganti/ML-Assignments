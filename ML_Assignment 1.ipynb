{
 "cells": [
  {
   "cell_type": "raw",
   "id": "e1cf2196",
   "metadata": {},
   "source": [
    "The following is a list of 10 students ages:\n",
    "ages = [19, 22, 19, 24, 20, 25, 26, 24, 25, 24]\n",
    "\n",
    "Sort the list and find the min and max age"
   ]
  },
  {
   "cell_type": "code",
   "execution_count": 1,
   "id": "b4da2564",
   "metadata": {},
   "outputs": [
    {
     "name": "stdout",
     "output_type": "stream",
     "text": [
      "[19, 19, 20, 22, 24, 24, 24, 25, 25, 26]\n",
      "min =19,max = 26\n"
     ]
    }
   ],
   "source": [
    "ages = [19, 22, 19, 24, 20, 25, 26, 24, 25, 24]\n",
    "ages.sort()\n",
    "print(ages)\n",
    "print(\"min =%d,max = %d\" % (ages[0],ages[len(ages)-1]))"
   ]
  },
  {
   "cell_type": "raw",
   "id": "a53b3f79",
   "metadata": {},
   "source": [
    "Add the min age and the max age again to the list"
   ]
  },
  {
   "cell_type": "code",
   "execution_count": 2,
   "id": "f50ccd6c",
   "metadata": {},
   "outputs": [
    {
     "name": "stdout",
     "output_type": "stream",
     "text": [
      "[19, 19, 20, 22, 24, 24, 24, 25, 25, 26, 19, 26]\n"
     ]
    }
   ],
   "source": [
    "slct =[]\n",
    "slct.append(ages[0])\n",
    "slct.append(ages[len(ages)-1])\n",
    "ages.extend(slct)\n",
    "print(ages)"
   ]
  },
  {
   "cell_type": "raw",
   "id": "1ee42271",
   "metadata": {},
   "source": [
    "Find the median age (one middle item or two middle items divided by two)"
   ]
  },
  {
   "cell_type": "code",
   "execution_count": 3,
   "id": "7da99e8a",
   "metadata": {},
   "outputs": [
    {
     "name": "stdout",
     "output_type": "stream",
     "text": [
      "24\n"
     ]
    }
   ],
   "source": [
    "def median(ages):\n",
    "    mid_val = len(ages)//2\n",
    "    if(len(ages) % 2!=0):\n",
    "        return (ages[mid_val-1]+ages[mid_val]) // 2.0\n",
    "    return ages[mid_val]\n",
    "\n",
    "print(median(ages))"
   ]
  },
  {
   "cell_type": "raw",
   "id": "f94e0b3b",
   "metadata": {},
   "source": [
    "Find the average age (sum of all items divided by their number)"
   ]
  },
  {
   "cell_type": "code",
   "execution_count": 54,
   "id": "bc464c20",
   "metadata": {},
   "outputs": [
    {
     "name": "stdout",
     "output_type": "stream",
     "text": [
      "22.75\n"
     ]
    }
   ],
   "source": [
    "def avgs(ages):\n",
    "    return sum(ages)/len(ages)\n",
    "print(avgs(ages))"
   ]
  },
  {
   "cell_type": "raw",
   "id": "0e661c87",
   "metadata": {},
   "source": [
    "Find the range of the ages (max minus min)"
   ]
  },
  {
   "cell_type": "code",
   "execution_count": 53,
   "id": "ab80ae9f",
   "metadata": {},
   "outputs": [
    {
     "name": "stdout",
     "output_type": "stream",
     "text": [
      "range is 7\n",
      "i..e.. range of ages is (19,26)\n"
     ]
    }
   ],
   "source": [
    "print(\"range is %d\" % (slct[1]-slct[0]))\n",
    "print(\"i..e.. range of ages is (%d,%d)\" % (slct[0],slct[1]))\n"
   ]
  },
  {
   "cell_type": "raw",
   "id": "d9508cfb",
   "metadata": {},
   "source": [
    "Create an empty dictionary called dog"
   ]
  },
  {
   "cell_type": "code",
   "execution_count": 6,
   "id": "3bdeef1a",
   "metadata": {},
   "outputs": [],
   "source": [
    "dog ={}"
   ]
  },
  {
   "cell_type": "raw",
   "id": "020ff843",
   "metadata": {},
   "source": [
    "Add name, color, breed, legs, age to the dog dictionary"
   ]
  },
  {
   "cell_type": "code",
   "execution_count": 41,
   "id": "38304fe3",
   "metadata": {
    "scrolled": true
   },
   "outputs": [
    {
     "name": "stdout",
     "output_type": "stream",
     "text": [
      "{'Name': 'gimmy', 'color': 'White', 'Breed': 'Pug', 'Leg': 4, 'Age': '1 Year'}\n"
     ]
    }
   ],
   "source": [
    "dog['Name'] = 'gimmy'\n",
    "dog['color'] = 'White'\n",
    "dog['Breed'] = 'Pug'\n",
    "dog['Leg'] = 4\n",
    "dog['Age'] = '1 Year'\n",
    "print(dog)"
   ]
  },
  {
   "cell_type": "raw",
   "id": "3d51abf3",
   "metadata": {},
   "source": [
    "Create a student dictionary and add first_name, last_name, gender, age, marital status,\n",
    "skills, country, city and address as keys for the dictionary# "
   ]
  },
  {
   "cell_type": "code",
   "execution_count": 44,
   "id": "a107739c",
   "metadata": {},
   "outputs": [
    {
     "name": "stdout",
     "output_type": "stream",
     "text": [
      "{'First_name': 'John', 'Last_name': 'Edpuganti', 'Gender': 'Male', 'Age': '24 Years', 'Marital Status': 'Single', 'Skills': ['Java', 'SQL'], 'Country': 'India', 'City': 'Rajahmundry', 'Address': 'Bommuru,533124'}\n"
     ]
    }
   ],
   "source": [
    "student ={}\n",
    "student['First_name'] = 'John'\n",
    "student['Last_name'] = 'Edpuganti'\n",
    "student['Gender'] = 'Male'\n",
    "student['Age'] = '24 Years'\n",
    "student['Marital Status'] = 'Single'\n",
    "student['Skills'] = ['Java','SQL']\n",
    "student['Country'] = 'India'\n",
    "student['City'] = 'Rajahmundry'\n",
    "student['Address'] = 'Bommuru,533124'\n",
    "\n",
    "print(student)"
   ]
  },
  {
   "cell_type": "raw",
   "id": "1054bf50",
   "metadata": {},
   "source": [
    "Get the length of the student dictionary"
   ]
  },
  {
   "cell_type": "code",
   "execution_count": 45,
   "id": "00c59d6c",
   "metadata": {},
   "outputs": [
    {
     "name": "stdout",
     "output_type": "stream",
     "text": [
      "9\n"
     ]
    }
   ],
   "source": [
    "print(len(student))"
   ]
  },
  {
   "cell_type": "raw",
   "id": "39061adc",
   "metadata": {},
   "source": [
    "Get the value of skills and check the data type, it should be a list"
   ]
  },
  {
   "cell_type": "code",
   "execution_count": 10,
   "id": "f83d5a5c",
   "metadata": {
    "scrolled": true
   },
   "outputs": [
    {
     "name": "stdout",
     "output_type": "stream",
     "text": [
      "<class 'list'>\n"
     ]
    }
   ],
   "source": [
    "print(type(student['Skills']))"
   ]
  },
  {
   "cell_type": "raw",
   "id": "b29a9642",
   "metadata": {},
   "source": [
    "Modify the skills values by adding one or two skills"
   ]
  },
  {
   "cell_type": "code",
   "execution_count": 14,
   "id": "fb780059",
   "metadata": {},
   "outputs": [
    {
     "data": {
      "text/plain": [
       "{'First_name': 'John',\n",
       " 'Last_name': 'Edpuganti',\n",
       " 'Gender': 'Male',\n",
       " 'Age': '24 Years',\n",
       " 'Marital Status': 'Single',\n",
       " 'Skills': ['Java', 'SQL', 'Python'],\n",
       " 'Country': 'India',\n",
       " 'City': 'Rajahmundry',\n",
       " 'Address': 'Bommuru,533124'}"
      ]
     },
     "execution_count": 14,
     "metadata": {},
     "output_type": "execute_result"
    }
   ],
   "source": [
    "student['Skills'].append('Python')\n",
    "student"
   ]
  },
  {
   "cell_type": "raw",
   "id": "b33f4c30",
   "metadata": {},
   "source": [
    "Get the dictionary keys as a list"
   ]
  },
  {
   "cell_type": "code",
   "execution_count": 15,
   "id": "4fd477d2",
   "metadata": {},
   "outputs": [
    {
     "name": "stdout",
     "output_type": "stream",
     "text": [
      "['First_name', 'Last_name', 'Gender', 'Age', 'Marital Status', 'Skills', 'Country', 'City', 'Address']\n"
     ]
    }
   ],
   "source": [
    "studentKeys = list(student.keys())\n",
    "print(studentKeys)"
   ]
  },
  {
   "cell_type": "raw",
   "id": "dfa32da9",
   "metadata": {},
   "source": [
    "Get the dictionary values as a list"
   ]
  },
  {
   "cell_type": "code",
   "execution_count": 16,
   "id": "f7e8dc79",
   "metadata": {},
   "outputs": [
    {
     "name": "stdout",
     "output_type": "stream",
     "text": [
      "['John', 'Edpuganti', 'Male', '24 Years', 'Single', ['Java', 'SQL', 'Python'], 'India', 'Rajahmundry', 'Bommuru,533124']\n"
     ]
    }
   ],
   "source": [
    "studentValues = list(student.values())\n",
    "print(studentValues)"
   ]
  },
  {
   "cell_type": "raw",
   "id": "40793a49",
   "metadata": {},
   "source": [
    "Create a tuple containing names of your sisters and your brothers (imaginary siblings are\n",
    "fine)"
   ]
  },
  {
   "cell_type": "code",
   "execution_count": 17,
   "id": "5b0b33fe",
   "metadata": {},
   "outputs": [],
   "source": [
    "sister = ('Ramya','Sudha')\n",
    "brothers = ('Dheeraj','Kanna')"
   ]
  },
  {
   "cell_type": "raw",
   "id": "5e5307cb",
   "metadata": {},
   "source": [
    "Join brothers and sisters tuples and assign it to siblings"
   ]
  },
  {
   "cell_type": "code",
   "execution_count": 18,
   "id": "a97831db",
   "metadata": {},
   "outputs": [
    {
     "data": {
      "text/plain": [
       "('Ramya', 'Sudha', 'Dheeraj', 'Kanna')"
      ]
     },
     "execution_count": 18,
     "metadata": {},
     "output_type": "execute_result"
    }
   ],
   "source": [
    "siblings = sister + brothers\n",
    "siblings"
   ]
  },
  {
   "cell_type": "raw",
   "id": "6256d843",
   "metadata": {},
   "source": [
    "How many siblings do you have?"
   ]
  },
  {
   "cell_type": "code",
   "execution_count": 19,
   "id": "398f2ace",
   "metadata": {
    "scrolled": true
   },
   "outputs": [
    {
     "name": "stdout",
     "output_type": "stream",
     "text": [
      "Number of siblings are 4\n"
     ]
    }
   ],
   "source": [
    "print(\"Number of siblings are %d\" % (len(siblings)))"
   ]
  },
  {
   "cell_type": "raw",
   "id": "084c3c63",
   "metadata": {},
   "source": [
    "Modify the siblings tuple and add the name of your father and mother and assign it to\n",
    "family_members"
   ]
  },
  {
   "cell_type": "code",
   "execution_count": 20,
   "id": "41fbd20a",
   "metadata": {
    "scrolled": true
   },
   "outputs": [
    {
     "name": "stdout",
     "output_type": "stream",
     "text": [
      "('Ramya', 'Sudha', 'Dheeraj', 'Kanna', 'Ram', 'Vijaya')\n"
     ]
    }
   ],
   "source": [
    "family_members = siblings + ('Ram', 'Vijaya')\n",
    "print(family_members)"
   ]
  },
  {
   "cell_type": "raw",
   "id": "8e24aba7",
   "metadata": {},
   "source": [
    "Find the length of the set it_companies "
   ]
  },
  {
   "cell_type": "code",
   "execution_count": 21,
   "id": "bb740f59",
   "metadata": {},
   "outputs": [],
   "source": [
    "it_companies = {'Facebook', 'Google', 'Microsoft', 'Apple', 'IBM', 'Oracle', 'Amazon'}\n",
    "A = {19, 22, 24, 20, 25, 26}\n",
    "B = {19, 22, 20, 25, 26, 24, 28, 27}\n",
    "age = [22, 19, 24, 25, 26, 24, 25, 24]\n"
   ]
  },
  {
   "cell_type": "code",
   "execution_count": 22,
   "id": "9282244c",
   "metadata": {},
   "outputs": [
    {
     "name": "stdout",
     "output_type": "stream",
     "text": [
      "7\n"
     ]
    }
   ],
   "source": [
    "print(len(it_companies))"
   ]
  },
  {
   "cell_type": "raw",
   "id": "f8a5a036",
   "metadata": {},
   "source": [
    "Add 'Twitter' to it_companies "
   ]
  },
  {
   "cell_type": "code",
   "execution_count": 23,
   "id": "b407a7cb",
   "metadata": {},
   "outputs": [
    {
     "data": {
      "text/plain": [
       "{'Amazon',\n",
       " 'Apple',\n",
       " 'Facebook',\n",
       " 'Google',\n",
       " 'IBM',\n",
       " 'Microsoft',\n",
       " 'Oracle',\n",
       " 'Twitter'}"
      ]
     },
     "execution_count": 23,
     "metadata": {},
     "output_type": "execute_result"
    }
   ],
   "source": [
    "it_companies.add('Twitter')\n",
    "it_companies"
   ]
  },
  {
   "cell_type": "raw",
   "id": "84e57c9a",
   "metadata": {},
   "source": [
    "Insert multiple IT companies at once to the set it_companies"
   ]
  },
  {
   "cell_type": "code",
   "execution_count": 24,
   "id": "071234d7",
   "metadata": {},
   "outputs": [
    {
     "data": {
      "text/plain": [
       "{'Amazon',\n",
       " 'Apple',\n",
       " 'Capgemini',\n",
       " 'Deloite',\n",
       " 'Facebook',\n",
       " 'Google',\n",
       " 'IBM',\n",
       " 'Microsoft',\n",
       " 'Oracle',\n",
       " 'TCS',\n",
       " 'Twitter'}"
      ]
     },
     "execution_count": 24,
     "metadata": {},
     "output_type": "execute_result"
    }
   ],
   "source": [
    "it_companies.update({'TCS','Capgemini','Deloite'})\n",
    "it_companies"
   ]
  },
  {
   "cell_type": "raw",
   "id": "5099eb87",
   "metadata": {},
   "source": [
    "Remove one of the companies from the set it_companies "
   ]
  },
  {
   "cell_type": "code",
   "execution_count": 25,
   "id": "7496e8b5",
   "metadata": {},
   "outputs": [
    {
     "name": "stdout",
     "output_type": "stream",
     "text": [
      "{'Microsoft', 'Facebook', 'Google', 'Amazon', 'Capgemini', 'Deloite', 'Twitter', 'Apple', 'Oracle', 'IBM'}\n"
     ]
    }
   ],
   "source": [
    "it_companies.remove('TCS')\n",
    "print(it_companies)"
   ]
  },
  {
   "cell_type": "raw",
   "id": "a1c33122",
   "metadata": {},
   "source": [
    "What is the difference between remove and discard"
   ]
  },
  {
   "cell_type": "raw",
   "id": "d2ee648c",
   "metadata": {},
   "source": [
    "remove method will check for item and delete, if item was not found in set then it throws error.\n",
    " On other hand discord method also used to remove specific element form set but main difference is that \n",
    " discord method wont throw error even if item not present in set"
   ]
  },
  {
   "cell_type": "raw",
   "id": "48522be0",
   "metadata": {},
   "source": [
    "Join A and B "
   ]
  },
  {
   "cell_type": "code",
   "execution_count": 26,
   "id": "8fe60254",
   "metadata": {},
   "outputs": [
    {
     "name": "stdout",
     "output_type": "stream",
     "text": [
      "{19, 20, 22, 24, 25, 26, 27, 28}\n"
     ]
    }
   ],
   "source": [
    "NewSet = A|B\n",
    "print(NewSet)"
   ]
  },
  {
   "cell_type": "raw",
   "id": "d71e69df",
   "metadata": {},
   "source": [
    "Find A intersection B "
   ]
  },
  {
   "cell_type": "code",
   "execution_count": 27,
   "id": "c034bfd3",
   "metadata": {},
   "outputs": [
    {
     "data": {
      "text/plain": [
       "{19, 20, 22, 24, 25, 26}"
      ]
     },
     "execution_count": 27,
     "metadata": {},
     "output_type": "execute_result"
    }
   ],
   "source": [
    "intersectionset = A.intersection(B)\n",
    "intersectionset\n"
   ]
  },
  {
   "cell_type": "raw",
   "id": "9867ab63",
   "metadata": {},
   "source": [
    "Is A subset of B "
   ]
  },
  {
   "cell_type": "code",
   "execution_count": 28,
   "id": "6b64211b",
   "metadata": {},
   "outputs": [
    {
     "name": "stdout",
     "output_type": "stream",
     "text": [
      "True\n"
     ]
    }
   ],
   "source": [
    "print(A.issubset(B))"
   ]
  },
  {
   "cell_type": "raw",
   "id": "b4dbdd81",
   "metadata": {},
   "source": [
    "Are A and B disjoint sets "
   ]
  },
  {
   "cell_type": "code",
   "execution_count": 29,
   "id": "5338c534",
   "metadata": {},
   "outputs": [
    {
     "name": "stdout",
     "output_type": "stream",
     "text": [
      "False\n"
     ]
    }
   ],
   "source": [
    "print(A.isdisjoint(B))"
   ]
  },
  {
   "cell_type": "raw",
   "id": "8b4cefef",
   "metadata": {},
   "source": [
    "Join A with B and B with A "
   ]
  },
  {
   "cell_type": "code",
   "execution_count": 30,
   "id": "8574d9ab",
   "metadata": {},
   "outputs": [
    {
     "data": {
      "text/plain": [
       "{19, 20, 22, 24, 25, 26, 27, 28}"
      ]
     },
     "execution_count": 30,
     "metadata": {},
     "output_type": "execute_result"
    }
   ],
   "source": [
    "Newjoin = A|B & B|A\n",
    "Newjoin"
   ]
  },
  {
   "cell_type": "raw",
   "id": "1898400d",
   "metadata": {},
   "source": [
    "What is the symmetric difference between A and B "
   ]
  },
  {
   "cell_type": "code",
   "execution_count": 31,
   "id": "c312f0a9",
   "metadata": {},
   "outputs": [
    {
     "name": "stdout",
     "output_type": "stream",
     "text": [
      "{27, 28}\n"
     ]
    }
   ],
   "source": [
    "print(A.symmetric_difference(B))\n"
   ]
  },
  {
   "cell_type": "raw",
   "id": "0439dae9",
   "metadata": {},
   "source": [
    "Delete the sets completely \n"
   ]
  },
  {
   "cell_type": "code",
   "execution_count": 32,
   "id": "5ccf4db6",
   "metadata": {},
   "outputs": [],
   "source": [
    "A.clear()"
   ]
  },
  {
   "cell_type": "raw",
   "id": "72a5323f",
   "metadata": {},
   "source": [
    "Convert the ages to a set and compare the length of the list and the set"
   ]
  },
  {
   "cell_type": "code",
   "execution_count": 33,
   "id": "66de16d6",
   "metadata": {},
   "outputs": [
    {
     "name": "stdout",
     "output_type": "stream",
     "text": [
      "{19, 22, 24, 25, 26}\n",
      "set len is 8, list len is 5\n"
     ]
    }
   ],
   "source": [
    "agesSet = set(age)\n",
    "print(agesSet)\n",
    "print(\"set len is %d, list len is %d\" % (len(age),len(agesSet)))\n"
   ]
  },
  {
   "cell_type": "raw",
   "id": "433ea6ee",
   "metadata": {},
   "source": [
    "The radius of a circle is 30 meters.\n",
    "Calculate the area of a circle and assign the value to a variable name of _area_of_circle_"
   ]
  },
  {
   "cell_type": "code",
   "execution_count": 34,
   "id": "877a4a8e",
   "metadata": {},
   "outputs": [
    {
     "name": "stdout",
     "output_type": "stream",
     "text": [
      "2827.4333882308138\n"
     ]
    }
   ],
   "source": [
    "def area(r, _area_of_circle_=None):\n",
    "    _area_of_circle_ = 3.141592653589793238*r*r\n",
    "    return _area_of_circle_\n",
    "\n",
    "print(area(30))"
   ]
  },
  {
   "cell_type": "raw",
   "id": "3800e93c",
   "metadata": {},
   "source": [
    "Calculate the circumference of a circle and assign the value to a variable name of\n",
    "_circum_of_circle_"
   ]
  },
  {
   "cell_type": "code",
   "execution_count": 35,
   "id": "6097c776",
   "metadata": {},
   "outputs": [
    {
     "name": "stdout",
     "output_type": "stream",
     "text": [
      "188.49555921538757\n"
     ]
    }
   ],
   "source": [
    "def circumference(r,_circum_of_circle_=None):\n",
    "    _circum_of_circle_ = 2*3.141592653589793238*r\n",
    "    return _circum_of_circle_\n",
    "\n",
    "print(circumference(30))"
   ]
  },
  {
   "cell_type": "raw",
   "id": "d0e0c3ce",
   "metadata": {},
   "source": [
    "Take radius as user input and calculate the area."
   ]
  },
  {
   "cell_type": "code",
   "execution_count": 36,
   "id": "b2469226",
   "metadata": {},
   "outputs": [
    {
     "name": "stdout",
     "output_type": "stream",
     "text": [
      "please enter radius10\n",
      "314.1592653589793\n"
     ]
    }
   ],
   "source": [
    "Givenradius = int(input(\"please enter radius\"))\n",
    "print(area(Givenradius))\n"
   ]
  },
  {
   "cell_type": "raw",
   "id": "32ba40c7",
   "metadata": {},
   "source": [
    "“I am a teacher and I love to inspire and teach people”\n",
    "• How many unique words have been used in the sentence? Use the split methods and set\n",
    "to get the unique words."
   ]
  },
  {
   "cell_type": "code",
   "execution_count": 49,
   "id": "e47c647a",
   "metadata": {},
   "outputs": [
    {
     "name": "stdout",
     "output_type": "stream",
     "text": [
      "10\n",
      "{'am', 'I', 'and', 'teach', 'to', 'love', 'teacher', 'inspire', 'a', 'people'}\n"
     ]
    }
   ],
   "source": [
    "str =\"I am a teacher and I love to inspire and teach people\"\n",
    "uniqueWords = set(str.split(' '))\n",
    "print(len(uniqueWords))\n",
    "print(uniqueWords)"
   ]
  },
  {
   "cell_type": "raw",
   "id": "14db5cbe",
   "metadata": {},
   "source": [
    "Use a tab escape sequence to get the following lines.\n",
    " Name Age Country City\n",
    " Asabeneh 250 Finland Helsinki\n"
   ]
  },
  {
   "cell_type": "code",
   "execution_count": 38,
   "id": "71cce701",
   "metadata": {},
   "outputs": [
    {
     "name": "stdout",
     "output_type": "stream",
     "text": [
      "Name\tAge\tCountry\tCity\n",
      "Asabeneh\t250\tFinland\tHelsinki\n"
     ]
    }
   ],
   "source": [
    "print(\"Name\\tAge\\tCountry\\tCity\\nAsabeneh\\t250\\tFinland\\tHelsinki\")\n"
   ]
  },
  {
   "cell_type": "raw",
   "id": "484cb6c1",
   "metadata": {},
   "source": [
    "Use the string formatting method to display the following:\n",
    "radius = 10\n",
    "area = 3.14 * radius ** 2\n",
    "“The area of a circle with radius 10 is 314 meters square.”\n"
   ]
  },
  {
   "cell_type": "code",
   "execution_count": 39,
   "id": "f2ea4e0a",
   "metadata": {},
   "outputs": [
    {
     "name": "stdout",
     "output_type": "stream",
     "text": [
      "The area of a circle with radius 10 is 314 meters square.\n"
     ]
    }
   ],
   "source": [
    "radius = 10\n",
    "area = 3.14 * radius ** 2\n",
    "print(\"The area of a circle with radius %d is %d meters square.\"%(radius,area))\n"
   ]
  },
  {
   "cell_type": "code",
   "execution_count": null,
   "id": "78cf60a4",
   "metadata": {},
   "outputs": [],
   "source": [
    "Write a program, which reads weights (lbs.) of N students into a list and convert these weights to\n",
    "kilograms in a separate list using Loop. N: No of students (Read input from user)\n",
    "Ex: L1: [150, 155, 145, 148]\n",
    "Output: [68.03, 70.3, 65.77, 67.13]"
   ]
  },
  {
   "cell_type": "code",
   "execution_count": 40,
   "id": "d2d78bc0",
   "metadata": {},
   "outputs": [
    {
     "name": "stdout",
     "output_type": "stream",
     "text": [
      "[68.0388, 70.30676, 65.77083999999999, 67.131616]\n"
     ]
    }
   ],
   "source": [
    "L1= [150, 155, 145, 148]\n",
    "Kgs = [value * 0.453592 for value in L1]\n",
    "print(Kgs)"
   ]
  }
 ],
 "metadata": {
  "kernelspec": {
   "display_name": "Python 3 (ipykernel)",
   "language": "python",
   "name": "python3"
  },
  "language_info": {
   "codemirror_mode": {
    "name": "ipython",
    "version": 3
   },
   "file_extension": ".py",
   "mimetype": "text/x-python",
   "name": "python",
   "nbconvert_exporter": "python",
   "pygments_lexer": "ipython3",
   "version": "3.9.12"
  }
 },
 "nbformat": 4,
 "nbformat_minor": 5
}
